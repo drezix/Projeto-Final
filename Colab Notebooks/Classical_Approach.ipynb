{
 "cells": [
  {
   "cell_type": "code",
   "execution_count": null,
   "metadata": {
    "colab": {
     "base_uri": "https://localhost:8080/",
     "height": 599
    },
    "executionInfo": {
     "elapsed": 10563,
     "status": "ok",
     "timestamp": 1740176343000,
     "user": {
      "displayName": "ANDRE TROISE AGOSTINIS",
      "userId": "03514808659709750078"
     },
     "user_tz": 180
    },
    "id": "adcoDtvRPOD-",
    "outputId": "f6a3b8b6-fd5d-4805-9277-23175bf54c54"
   },
   "outputs": [
    {
     "name": "stdout",
     "output_type": "stream",
     "text": [
      "Defaulting to user installation because normal site-packages is not writeableNote: you may need to restart the kernel to use updated packages.\n",
      "\n"
     ]
    },
    {
     "name": "stderr",
     "output_type": "stream",
     "text": [
      "ERROR: Could not find a version that satisfies the requirement google-colab (from versions: none)\n",
      "\n",
      "[notice] A new release of pip is available: 24.2 -> 25.0.1\n",
      "[notice] To update, run: python.exe -m pip install --upgrade pip\n",
      "ERROR: No matching distribution found for google-colab\n"
     ]
    },
    {
     "ename": "ModuleNotFoundError",
     "evalue": "No module named 'google.colab'",
     "output_type": "error",
     "traceback": [
      "\u001b[1;31m---------------------------------------------------------------------------\u001b[0m",
      "\u001b[1;31mModuleNotFoundError\u001b[0m                       Traceback (most recent call last)",
      "Cell \u001b[1;32mIn[2], line 4\u001b[0m\n\u001b[0;32m      1\u001b[0m \u001b[38;5;66;03m# Install google-colab package\u001b[39;00m\n\u001b[0;32m      2\u001b[0m get_ipython()\u001b[38;5;241m.\u001b[39mrun_line_magic(\u001b[38;5;124m'\u001b[39m\u001b[38;5;124mpip\u001b[39m\u001b[38;5;124m'\u001b[39m, \u001b[38;5;124m'\u001b[39m\u001b[38;5;124minstall google-colab\u001b[39m\u001b[38;5;124m'\u001b[39m)\n\u001b[1;32m----> 4\u001b[0m \u001b[38;5;28;01mfrom\u001b[39;00m\u001b[38;5;250m \u001b[39m\u001b[38;5;21;01mgoogle\u001b[39;00m\u001b[38;5;21;01m.\u001b[39;00m\u001b[38;5;21;01mcolab\u001b[39;00m\u001b[38;5;250m \u001b[39m\u001b[38;5;28;01mimport\u001b[39;00m drive\n\u001b[0;32m      5\u001b[0m drive\u001b[38;5;241m.\u001b[39mmount(\u001b[38;5;124m'\u001b[39m\u001b[38;5;124m/content/drive\u001b[39m\u001b[38;5;124m'\u001b[39m)\n\u001b[0;32m      7\u001b[0m \u001b[38;5;28;01mimport\u001b[39;00m\u001b[38;5;250m \u001b[39m\u001b[38;5;21;01mos\u001b[39;00m\n",
      "\u001b[1;31mModuleNotFoundError\u001b[0m: No module named 'google.colab'"
     ]
    }
   ],
   "source": [
    "from google.colab import drive\n",
    "drive.mount('/content/drive')\n",
    "\n",
    "import os\n",
    "import cv2\n",
    "import numpy as np\n",
    "from sklearn.svm import SVC\n",
    "from sklearn.metrics import accuracy_score, classification_report, confusion_matrix\n",
    "import matplotlib.pyplot as plt\n",
    "\n",
    "base_path = '/content/drive/MyDrive/dataset'\n",
    "train_dir = os.path.join(base_path, 'train')\n",
    "test_dir = os.path.join(base_path, 'test')\n",
    "\n",
    "def load_images(directory):\n",
    "    images = []\n",
    "    labels = []\n",
    "    classes = ['covid', 'normal']\n",
    "\n",
    "    for class_idx, class_name in enumerate(classes):\n",
    "        class_path = os.path.join(directory, class_name)\n",
    "        for img_name in os.listdir(class_path):\n",
    "            img_path = os.path.join(class_path, img_name)\n",
    "            img = cv2.imread(img_path, cv2.IMREAD_GRAYSCALE)\n",
    "            img = cv2.resize(img, (128, 128))\n",
    "            images.append(img)\n",
    "            labels.append(class_idx)\n",
    "\n",
    "    return np.array(images), np.array(labels)\n",
    "\n",
    "X_train, y_train = load_images(train_dir)\n",
    "X_test, y_test = load_images(test_dir)\n",
    "\n",
    "def extract_gabor_features(images):\n",
    "    features = []\n",
    "    ksize = 31\n",
    "    sigma = 4.0\n",
    "    lambd_values = [10.0, 20.0]\n",
    "    gamma = 0.5\n",
    "    psi = 0\n",
    "    thetas = [0, np.pi/4, np.pi/2, 3*np.pi/4]\n",
    "\n",
    "    kernels = []\n",
    "    for lambd in lambd_values:\n",
    "        for theta in thetas:\n",
    "            kernel = cv2.getGaborKernel((ksize, ksize), sigma, theta, lambd, gamma, psi, ktype=cv2.CV_32F)\n",
    "            kernels.append(kernel)\n",
    "\n",
    "    for img in images:\n",
    "        feats = []\n",
    "        for kernel in kernels:\n",
    "            filtered = cv2.filter2D(img, cv2.CV_32F, kernel)\n",
    "            feats.append(filtered.mean())\n",
    "            feats.append(filtered.var())\n",
    "        features.append(feats)\n",
    "    return np.array(features)\n",
    "\n",
    "X_train_gabor = extract_gabor_features(X_train)\n",
    "X_test_gabor = extract_gabor_features(X_test)\n",
    "\n",
    "svm = SVC(kernel='rbf', C=10, gamma='scale', probability=True)\n",
    "svm.fit(X_train_gabor, y_train)\n",
    "\n",
    "y_pred = svm.predict(X_test_gabor)\n",
    "\n",
    "print(\"Gabor-based Approach Results:\")\n",
    "print(f\"Accuracy: {accuracy_score(y_test, y_pred):.2f}\")\n",
    "print(classification_report(y_test, y_pred))\n",
    "\n",
    "plt.figure(figsize=(6,4))\n",
    "plt.imshow(confusion_matrix(y_test, y_pred), cmap='Blues')\n",
    "plt.title('Gabor+SVM Confusion Matrix')\n",
    "plt.xticks([0,1], ['covid', 'normal'])\n",
    "plt.yticks([0,1], ['covid', 'normal'])\n",
    "plt.colorbar()\n",
    "plt.show()"
   ]
  }
 ],
 "metadata": {
  "accelerator": "GPU",
  "colab": {
   "authorship_tag": "ABX9TyNLz8dH5ZfByECEMWHqLDIO",
   "gpuType": "T4",
   "provenance": []
  },
  "kernelspec": {
   "display_name": "Python 3",
   "name": "python3"
  },
  "language_info": {
   "codemirror_mode": {
    "name": "ipython",
    "version": 3
   },
   "file_extension": ".py",
   "mimetype": "text/x-python",
   "name": "python",
   "nbconvert_exporter": "python",
   "pygments_lexer": "ipython3",
   "version": "3.12.6"
  }
 },
 "nbformat": 4,
 "nbformat_minor": 0
}
